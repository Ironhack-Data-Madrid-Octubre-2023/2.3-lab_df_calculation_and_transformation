{
 "cells": [
  {
   "cell_type": "markdown",
   "metadata": {},
   "source": [
    "# Challenge 3\n",
    "\n",
    "In this challenge we will work on the `Orders` data set. In your work you will apply the thinking process and workflow we showed you in Challenge 2.\n",
    "\n",
    "You are serving as a Business Intelligence Analyst at the headquarter of an international fashion goods chain store. Your boss today asked you to do two things for her:\n",
    "\n",
    "**First, identify two groups of customers from the data set.** The first group is **VIP Customers** whose **aggregated expenses** at your global chain stores are **above the 95th percentile** (aka. 0.95 quantile). The second group is **Preferred Customers** whose **aggregated expenses** are **between the 75th and 95th percentile**.\n",
    "\n",
    "**Second, identify which country has the most of your VIP customers, and which country has the most of your VIP+Preferred Customers combined.**"
   ]
  },
  {
   "cell_type": "markdown",
   "metadata": {},
   "source": [
    "## Q1: How to identify VIP & Preferred Customers?\n",
    "\n",
    "We start by importing all the required libraries:"
   ]
  },
  {
   "cell_type": "code",
   "execution_count": 2,
   "metadata": {},
   "outputs": [],
   "source": [
    "import pandas as pd\n",
    "import numpy as np\n",
    "import os\n",
    "\n",
    "\n",
    "import warnings\n",
    "warnings.filterwarnings('ignore')"
   ]
  },
  {
   "cell_type": "markdown",
   "metadata": {},
   "source": [
    "Next, import `Orders` from Ironhack's database into a dataframe variable called `orders`. Print the head of `orders` to overview the data:"
   ]
  },
  {
   "cell_type": "code",
   "execution_count": 4,
   "metadata": {},
   "outputs": [],
   "source": [
    "orders = pd.read_csv(\"Orders.csv\")"
   ]
  },
  {
   "cell_type": "code",
   "execution_count": 7,
   "metadata": {},
   "outputs": [
    {
     "data": {
      "text/html": [
       "<div>\n",
       "<style scoped>\n",
       "    .dataframe tbody tr th:only-of-type {\n",
       "        vertical-align: middle;\n",
       "    }\n",
       "\n",
       "    .dataframe tbody tr th {\n",
       "        vertical-align: top;\n",
       "    }\n",
       "\n",
       "    .dataframe thead th {\n",
       "        text-align: right;\n",
       "    }\n",
       "</style>\n",
       "<table border=\"1\" class=\"dataframe\">\n",
       "  <thead>\n",
       "    <tr style=\"text-align: right;\">\n",
       "      <th></th>\n",
       "      <th>Unnamed: 0</th>\n",
       "      <th>InvoiceNo</th>\n",
       "      <th>StockCode</th>\n",
       "      <th>year</th>\n",
       "      <th>month</th>\n",
       "      <th>day</th>\n",
       "      <th>hour</th>\n",
       "      <th>Description</th>\n",
       "      <th>Quantity</th>\n",
       "      <th>InvoiceDate</th>\n",
       "      <th>UnitPrice</th>\n",
       "      <th>CustomerID</th>\n",
       "      <th>Country</th>\n",
       "      <th>amount_spent</th>\n",
       "    </tr>\n",
       "  </thead>\n",
       "  <tbody>\n",
       "    <tr>\n",
       "      <th>0</th>\n",
       "      <td>0</td>\n",
       "      <td>536365</td>\n",
       "      <td>85123A</td>\n",
       "      <td>2010</td>\n",
       "      <td>12</td>\n",
       "      <td>3</td>\n",
       "      <td>8</td>\n",
       "      <td>white hanging heart t-light holder</td>\n",
       "      <td>6</td>\n",
       "      <td>2010-12-01 08:26:00</td>\n",
       "      <td>2.55</td>\n",
       "      <td>17850</td>\n",
       "      <td>United Kingdom</td>\n",
       "      <td>15.30</td>\n",
       "    </tr>\n",
       "    <tr>\n",
       "      <th>1</th>\n",
       "      <td>1</td>\n",
       "      <td>536365</td>\n",
       "      <td>71053</td>\n",
       "      <td>2010</td>\n",
       "      <td>12</td>\n",
       "      <td>3</td>\n",
       "      <td>8</td>\n",
       "      <td>white metal lantern</td>\n",
       "      <td>6</td>\n",
       "      <td>2010-12-01 08:26:00</td>\n",
       "      <td>3.39</td>\n",
       "      <td>17850</td>\n",
       "      <td>United Kingdom</td>\n",
       "      <td>20.34</td>\n",
       "    </tr>\n",
       "    <tr>\n",
       "      <th>2</th>\n",
       "      <td>2</td>\n",
       "      <td>536365</td>\n",
       "      <td>84406B</td>\n",
       "      <td>2010</td>\n",
       "      <td>12</td>\n",
       "      <td>3</td>\n",
       "      <td>8</td>\n",
       "      <td>cream cupid hearts coat hanger</td>\n",
       "      <td>8</td>\n",
       "      <td>2010-12-01 08:26:00</td>\n",
       "      <td>2.75</td>\n",
       "      <td>17850</td>\n",
       "      <td>United Kingdom</td>\n",
       "      <td>22.00</td>\n",
       "    </tr>\n",
       "    <tr>\n",
       "      <th>3</th>\n",
       "      <td>3</td>\n",
       "      <td>536365</td>\n",
       "      <td>84029G</td>\n",
       "      <td>2010</td>\n",
       "      <td>12</td>\n",
       "      <td>3</td>\n",
       "      <td>8</td>\n",
       "      <td>knitted union flag hot water bottle</td>\n",
       "      <td>6</td>\n",
       "      <td>2010-12-01 08:26:00</td>\n",
       "      <td>3.39</td>\n",
       "      <td>17850</td>\n",
       "      <td>United Kingdom</td>\n",
       "      <td>20.34</td>\n",
       "    </tr>\n",
       "    <tr>\n",
       "      <th>4</th>\n",
       "      <td>4</td>\n",
       "      <td>536365</td>\n",
       "      <td>84029E</td>\n",
       "      <td>2010</td>\n",
       "      <td>12</td>\n",
       "      <td>3</td>\n",
       "      <td>8</td>\n",
       "      <td>red woolly hottie white heart.</td>\n",
       "      <td>6</td>\n",
       "      <td>2010-12-01 08:26:00</td>\n",
       "      <td>3.39</td>\n",
       "      <td>17850</td>\n",
       "      <td>United Kingdom</td>\n",
       "      <td>20.34</td>\n",
       "    </tr>\n",
       "  </tbody>\n",
       "</table>\n",
       "</div>"
      ],
      "text/plain": [
       "   Unnamed: 0  InvoiceNo StockCode  year  month  day  hour  \\\n",
       "0           0     536365    85123A  2010     12    3     8   \n",
       "1           1     536365     71053  2010     12    3     8   \n",
       "2           2     536365    84406B  2010     12    3     8   \n",
       "3           3     536365    84029G  2010     12    3     8   \n",
       "4           4     536365    84029E  2010     12    3     8   \n",
       "\n",
       "                           Description  Quantity          InvoiceDate  \\\n",
       "0   white hanging heart t-light holder         6  2010-12-01 08:26:00   \n",
       "1                  white metal lantern         6  2010-12-01 08:26:00   \n",
       "2       cream cupid hearts coat hanger         8  2010-12-01 08:26:00   \n",
       "3  knitted union flag hot water bottle         6  2010-12-01 08:26:00   \n",
       "4       red woolly hottie white heart.         6  2010-12-01 08:26:00   \n",
       "\n",
       "   UnitPrice  CustomerID         Country  amount_spent  \n",
       "0       2.55       17850  United Kingdom         15.30  \n",
       "1       3.39       17850  United Kingdom         20.34  \n",
       "2       2.75       17850  United Kingdom         22.00  \n",
       "3       3.39       17850  United Kingdom         20.34  \n",
       "4       3.39       17850  United Kingdom         20.34  "
      ]
     },
     "execution_count": 7,
     "metadata": {},
     "output_type": "execute_result"
    }
   ],
   "source": [
    "orders.head()"
   ]
  },
  {
   "cell_type": "markdown",
   "metadata": {},
   "source": [
    "---\n",
    "\n",
    "\"Identify VIP and Preferred Customers\" is the non-technical goal of your boss. You need to translate that goal into technical languages that data analysts use:\n",
    "\n",
    "## How to label customers whose aggregated `amount_spent` is in a given quantile range?\n"
   ]
  },
  {
   "cell_type": "markdown",
   "metadata": {},
   "source": [
    "We break down the main problem into several sub problems:\n",
    "\n",
    "#### Sub Problem 1: How to aggregate the  `amount_spent` for unique customers?\n",
    "\n",
    "#### Sub Problem 2: How to select customers whose aggregated `amount_spent` is in a given quantile range?\n",
    "\n",
    "#### Sub Problem 3: How to label selected customers as \"VIP\" or \"Preferred\"?\n",
    "\n",
    "*Note: If you want to break down the main problem in a different way, please feel free to revise the sub problems above.*\n",
    "\n",
    "Now in the workspace below, tackle each of the sub problems using the iterative problem solving workflow. Insert cells as necessary to write your codes and explain your steps."
   ]
  },
  {
   "cell_type": "code",
   "execution_count": 8,
   "metadata": {},
   "outputs": [
    {
     "name": "stdout",
     "output_type": "stream",
     "text": [
      "<class 'pandas.core.frame.DataFrame'>\n",
      "RangeIndex: 397924 entries, 0 to 397923\n",
      "Data columns (total 14 columns):\n",
      " #   Column        Non-Null Count   Dtype  \n",
      "---  ------        --------------   -----  \n",
      " 0   Unnamed: 0    397924 non-null  int64  \n",
      " 1   InvoiceNo     397924 non-null  int64  \n",
      " 2   StockCode     397924 non-null  object \n",
      " 3   year          397924 non-null  int64  \n",
      " 4   month         397924 non-null  int64  \n",
      " 5   day           397924 non-null  int64  \n",
      " 6   hour          397924 non-null  int64  \n",
      " 7   Description   397924 non-null  object \n",
      " 8   Quantity      397924 non-null  int64  \n",
      " 9   InvoiceDate   397924 non-null  object \n",
      " 10  UnitPrice     397924 non-null  float64\n",
      " 11  CustomerID    397924 non-null  int64  \n",
      " 12  Country       397924 non-null  object \n",
      " 13  amount_spent  397924 non-null  float64\n",
      "dtypes: float64(2), int64(8), object(4)\n",
      "memory usage: 42.5+ MB\n"
     ]
    }
   ],
   "source": [
    "orders.info()"
   ]
  },
  {
   "cell_type": "code",
   "execution_count": 20,
   "metadata": {},
   "outputs": [
    {
     "data": {
      "text/plain": [
       "CustomerID\n",
       "12346    77183.60\n",
       "12347     4310.00\n",
       "12348     1797.24\n",
       "12349     1757.55\n",
       "12350      334.40\n",
       "           ...   \n",
       "18280      180.60\n",
       "18281       80.82\n",
       "18282      178.05\n",
       "18283     2094.88\n",
       "18287     1837.28\n",
       "Name: amount_spent, Length: 4339, dtype: float64"
      ]
     },
     "execution_count": 20,
     "metadata": {},
     "output_type": "execute_result"
    }
   ],
   "source": [
    "#subproblem1\n",
    "amount_spent_customers = orders.groupby(\"CustomerID\")[\"amount_spent\"].sum()\n",
    "amount_spent_customers"
   ]
  },
  {
   "cell_type": "code",
   "execution_count": 13,
   "metadata": {},
   "outputs": [],
   "source": [
    "#subproblem2\n",
    "\n",
    "import statistics as stats"
   ]
  },
  {
   "cell_type": "code",
   "execution_count": 16,
   "metadata": {},
   "outputs": [
    {
     "data": {
      "text/html": [
       "<div>\n",
       "<style scoped>\n",
       "    .dataframe tbody tr th:only-of-type {\n",
       "        vertical-align: middle;\n",
       "    }\n",
       "\n",
       "    .dataframe tbody tr th {\n",
       "        vertical-align: top;\n",
       "    }\n",
       "\n",
       "    .dataframe thead th {\n",
       "        text-align: right;\n",
       "    }\n",
       "</style>\n",
       "<table border=\"1\" class=\"dataframe\">\n",
       "  <thead>\n",
       "    <tr style=\"text-align: right;\">\n",
       "      <th></th>\n",
       "      <th>count</th>\n",
       "      <th>mean</th>\n",
       "      <th>std</th>\n",
       "      <th>min</th>\n",
       "      <th>25%</th>\n",
       "      <th>50%</th>\n",
       "      <th>75%</th>\n",
       "      <th>max</th>\n",
       "      <th>IQR</th>\n",
       "    </tr>\n",
       "  </thead>\n",
       "  <tbody>\n",
       "    <tr>\n",
       "      <th>Unnamed: 0</th>\n",
       "      <td>397924.0</td>\n",
       "      <td>278465.221859</td>\n",
       "      <td>152771.368303</td>\n",
       "      <td>0.0</td>\n",
       "      <td>148333.75</td>\n",
       "      <td>284907.50</td>\n",
       "      <td>410079.25</td>\n",
       "      <td>541908.00</td>\n",
       "      <td>261745.50</td>\n",
       "    </tr>\n",
       "    <tr>\n",
       "      <th>InvoiceNo</th>\n",
       "      <td>397924.0</td>\n",
       "      <td>560617.126645</td>\n",
       "      <td>13106.167695</td>\n",
       "      <td>536365.0</td>\n",
       "      <td>549234.00</td>\n",
       "      <td>561893.00</td>\n",
       "      <td>572090.00</td>\n",
       "      <td>581587.00</td>\n",
       "      <td>22856.00</td>\n",
       "    </tr>\n",
       "    <tr>\n",
       "      <th>year</th>\n",
       "      <td>397924.0</td>\n",
       "      <td>2010.934259</td>\n",
       "      <td>0.247829</td>\n",
       "      <td>2010.0</td>\n",
       "      <td>2011.00</td>\n",
       "      <td>2011.00</td>\n",
       "      <td>2011.00</td>\n",
       "      <td>2011.00</td>\n",
       "      <td>0.00</td>\n",
       "    </tr>\n",
       "    <tr>\n",
       "      <th>month</th>\n",
       "      <td>397924.0</td>\n",
       "      <td>7.612537</td>\n",
       "      <td>3.416527</td>\n",
       "      <td>1.0</td>\n",
       "      <td>5.00</td>\n",
       "      <td>8.00</td>\n",
       "      <td>11.00</td>\n",
       "      <td>12.00</td>\n",
       "      <td>6.00</td>\n",
       "    </tr>\n",
       "    <tr>\n",
       "      <th>day</th>\n",
       "      <td>397924.0</td>\n",
       "      <td>3.614555</td>\n",
       "      <td>1.928274</td>\n",
       "      <td>1.0</td>\n",
       "      <td>2.00</td>\n",
       "      <td>3.00</td>\n",
       "      <td>5.00</td>\n",
       "      <td>7.00</td>\n",
       "      <td>3.00</td>\n",
       "    </tr>\n",
       "    <tr>\n",
       "      <th>hour</th>\n",
       "      <td>397924.0</td>\n",
       "      <td>12.728247</td>\n",
       "      <td>2.273535</td>\n",
       "      <td>6.0</td>\n",
       "      <td>11.00</td>\n",
       "      <td>13.00</td>\n",
       "      <td>14.00</td>\n",
       "      <td>20.00</td>\n",
       "      <td>3.00</td>\n",
       "    </tr>\n",
       "    <tr>\n",
       "      <th>Quantity</th>\n",
       "      <td>397924.0</td>\n",
       "      <td>13.021823</td>\n",
       "      <td>180.420210</td>\n",
       "      <td>1.0</td>\n",
       "      <td>2.00</td>\n",
       "      <td>6.00</td>\n",
       "      <td>12.00</td>\n",
       "      <td>80995.00</td>\n",
       "      <td>10.00</td>\n",
       "    </tr>\n",
       "    <tr>\n",
       "      <th>UnitPrice</th>\n",
       "      <td>397924.0</td>\n",
       "      <td>3.116174</td>\n",
       "      <td>22.096788</td>\n",
       "      <td>0.0</td>\n",
       "      <td>1.25</td>\n",
       "      <td>1.95</td>\n",
       "      <td>3.75</td>\n",
       "      <td>8142.75</td>\n",
       "      <td>2.50</td>\n",
       "    </tr>\n",
       "    <tr>\n",
       "      <th>CustomerID</th>\n",
       "      <td>397924.0</td>\n",
       "      <td>15294.315171</td>\n",
       "      <td>1713.169877</td>\n",
       "      <td>12346.0</td>\n",
       "      <td>13969.00</td>\n",
       "      <td>15159.00</td>\n",
       "      <td>16795.00</td>\n",
       "      <td>18287.00</td>\n",
       "      <td>2826.00</td>\n",
       "    </tr>\n",
       "    <tr>\n",
       "      <th>amount_spent</th>\n",
       "      <td>397924.0</td>\n",
       "      <td>22.394749</td>\n",
       "      <td>309.055588</td>\n",
       "      <td>0.0</td>\n",
       "      <td>4.68</td>\n",
       "      <td>11.80</td>\n",
       "      <td>19.80</td>\n",
       "      <td>168469.60</td>\n",
       "      <td>15.12</td>\n",
       "    </tr>\n",
       "  </tbody>\n",
       "</table>\n",
       "</div>"
      ],
      "text/plain": [
       "                 count           mean            std       min        25%  \\\n",
       "Unnamed: 0    397924.0  278465.221859  152771.368303       0.0  148333.75   \n",
       "InvoiceNo     397924.0  560617.126645   13106.167695  536365.0  549234.00   \n",
       "year          397924.0    2010.934259       0.247829    2010.0    2011.00   \n",
       "month         397924.0       7.612537       3.416527       1.0       5.00   \n",
       "day           397924.0       3.614555       1.928274       1.0       2.00   \n",
       "hour          397924.0      12.728247       2.273535       6.0      11.00   \n",
       "Quantity      397924.0      13.021823     180.420210       1.0       2.00   \n",
       "UnitPrice     397924.0       3.116174      22.096788       0.0       1.25   \n",
       "CustomerID    397924.0   15294.315171    1713.169877   12346.0   13969.00   \n",
       "amount_spent  397924.0      22.394749     309.055588       0.0       4.68   \n",
       "\n",
       "                    50%        75%        max        IQR  \n",
       "Unnamed: 0    284907.50  410079.25  541908.00  261745.50  \n",
       "InvoiceNo     561893.00  572090.00  581587.00   22856.00  \n",
       "year            2011.00    2011.00    2011.00       0.00  \n",
       "month              8.00      11.00      12.00       6.00  \n",
       "day                3.00       5.00       7.00       3.00  \n",
       "hour              13.00      14.00      20.00       3.00  \n",
       "Quantity           6.00      12.00   80995.00      10.00  \n",
       "UnitPrice          1.95       3.75    8142.75       2.50  \n",
       "CustomerID     15159.00   16795.00   18287.00    2826.00  \n",
       "amount_spent      11.80      19.80  168469.60      15.12  "
      ]
     },
     "execution_count": 16,
     "metadata": {},
     "output_type": "execute_result"
    }
   ],
   "source": [
    "stats = orders.describe().T\n",
    "\n",
    "\n",
    "stats[\"IQR\"] = stats[\"75%\"] - stats[\"25%\"]\n",
    "\n",
    "\n",
    "stats"
   ]
  },
  {
   "cell_type": "code",
   "execution_count": 18,
   "metadata": {},
   "outputs": [
    {
     "data": {
      "text/plain": [
       "1661.64"
      ]
     },
     "execution_count": 18,
     "metadata": {},
     "output_type": "execute_result"
    }
   ],
   "source": [
    "percentile_75 = np.percentile(amount_spent_customers, 75)  \n",
    "percentile_75"
   ]
  },
  {
   "cell_type": "code",
   "execution_count": 21,
   "metadata": {},
   "outputs": [
    {
     "data": {
      "text/plain": [
       "5840.181999999982"
      ]
     },
     "execution_count": 21,
     "metadata": {},
     "output_type": "execute_result"
    }
   ],
   "source": [
    "percentile_95 = np.percentile(amount_spent_customers, 95)\n",
    "percentile_95 "
   ]
  },
  {
   "cell_type": "code",
   "execution_count": 24,
   "metadata": {},
   "outputs": [],
   "source": [
    "#subproblem3"
   ]
  },
  {
   "cell_type": "code",
   "execution_count": 25,
   "metadata": {},
   "outputs": [],
   "source": [
    "orders[\"Customer_Label\"] = \"Normal\"\n"
   ]
  },
  {
   "cell_type": "code",
   "execution_count": 26,
   "metadata": {},
   "outputs": [],
   "source": [
    "vip_customers = amount_spent_customers > percentile_95\n",
    "vip_customers_index = amount_spent_customers[vip_customers].index\n",
    "orders.loc[orders[\"CustomerID\"].isin(vip_customers_index), \"Customer_Label\"] = \"VIP\""
   ]
  },
  {
   "cell_type": "code",
   "execution_count": 27,
   "metadata": {},
   "outputs": [],
   "source": [
    "preferred_customers = (amount_spent_customers >= percentile_75) & (amount_spent_customers <= percentile_95)\n",
    "preferred_customers_index = amount_spent_customers[preferred_customers].index\n",
    "orders.loc[orders[\"CustomerID\"].isin(preferred_customers_index), \"Customer_Label\"] = \"Preferred\""
   ]
  },
  {
   "cell_type": "code",
   "execution_count": 28,
   "metadata": {},
   "outputs": [
    {
     "data": {
      "text/html": [
       "<div>\n",
       "<style scoped>\n",
       "    .dataframe tbody tr th:only-of-type {\n",
       "        vertical-align: middle;\n",
       "    }\n",
       "\n",
       "    .dataframe tbody tr th {\n",
       "        vertical-align: top;\n",
       "    }\n",
       "\n",
       "    .dataframe thead th {\n",
       "        text-align: right;\n",
       "    }\n",
       "</style>\n",
       "<table border=\"1\" class=\"dataframe\">\n",
       "  <thead>\n",
       "    <tr style=\"text-align: right;\">\n",
       "      <th></th>\n",
       "      <th>Unnamed: 0</th>\n",
       "      <th>InvoiceNo</th>\n",
       "      <th>StockCode</th>\n",
       "      <th>year</th>\n",
       "      <th>month</th>\n",
       "      <th>day</th>\n",
       "      <th>hour</th>\n",
       "      <th>Description</th>\n",
       "      <th>Quantity</th>\n",
       "      <th>InvoiceDate</th>\n",
       "      <th>UnitPrice</th>\n",
       "      <th>CustomerID</th>\n",
       "      <th>Country</th>\n",
       "      <th>amount_spent</th>\n",
       "      <th>Customer_Label</th>\n",
       "    </tr>\n",
       "  </thead>\n",
       "  <tbody>\n",
       "    <tr>\n",
       "      <th>0</th>\n",
       "      <td>0</td>\n",
       "      <td>536365</td>\n",
       "      <td>85123A</td>\n",
       "      <td>2010</td>\n",
       "      <td>12</td>\n",
       "      <td>3</td>\n",
       "      <td>8</td>\n",
       "      <td>white hanging heart t-light holder</td>\n",
       "      <td>6</td>\n",
       "      <td>2010-12-01 08:26:00</td>\n",
       "      <td>2.55</td>\n",
       "      <td>17850</td>\n",
       "      <td>United Kingdom</td>\n",
       "      <td>15.30</td>\n",
       "      <td>Preferred</td>\n",
       "    </tr>\n",
       "    <tr>\n",
       "      <th>1</th>\n",
       "      <td>1</td>\n",
       "      <td>536365</td>\n",
       "      <td>71053</td>\n",
       "      <td>2010</td>\n",
       "      <td>12</td>\n",
       "      <td>3</td>\n",
       "      <td>8</td>\n",
       "      <td>white metal lantern</td>\n",
       "      <td>6</td>\n",
       "      <td>2010-12-01 08:26:00</td>\n",
       "      <td>3.39</td>\n",
       "      <td>17850</td>\n",
       "      <td>United Kingdom</td>\n",
       "      <td>20.34</td>\n",
       "      <td>Preferred</td>\n",
       "    </tr>\n",
       "    <tr>\n",
       "      <th>2</th>\n",
       "      <td>2</td>\n",
       "      <td>536365</td>\n",
       "      <td>84406B</td>\n",
       "      <td>2010</td>\n",
       "      <td>12</td>\n",
       "      <td>3</td>\n",
       "      <td>8</td>\n",
       "      <td>cream cupid hearts coat hanger</td>\n",
       "      <td>8</td>\n",
       "      <td>2010-12-01 08:26:00</td>\n",
       "      <td>2.75</td>\n",
       "      <td>17850</td>\n",
       "      <td>United Kingdom</td>\n",
       "      <td>22.00</td>\n",
       "      <td>Preferred</td>\n",
       "    </tr>\n",
       "    <tr>\n",
       "      <th>3</th>\n",
       "      <td>3</td>\n",
       "      <td>536365</td>\n",
       "      <td>84029G</td>\n",
       "      <td>2010</td>\n",
       "      <td>12</td>\n",
       "      <td>3</td>\n",
       "      <td>8</td>\n",
       "      <td>knitted union flag hot water bottle</td>\n",
       "      <td>6</td>\n",
       "      <td>2010-12-01 08:26:00</td>\n",
       "      <td>3.39</td>\n",
       "      <td>17850</td>\n",
       "      <td>United Kingdom</td>\n",
       "      <td>20.34</td>\n",
       "      <td>Preferred</td>\n",
       "    </tr>\n",
       "    <tr>\n",
       "      <th>4</th>\n",
       "      <td>4</td>\n",
       "      <td>536365</td>\n",
       "      <td>84029E</td>\n",
       "      <td>2010</td>\n",
       "      <td>12</td>\n",
       "      <td>3</td>\n",
       "      <td>8</td>\n",
       "      <td>red woolly hottie white heart.</td>\n",
       "      <td>6</td>\n",
       "      <td>2010-12-01 08:26:00</td>\n",
       "      <td>3.39</td>\n",
       "      <td>17850</td>\n",
       "      <td>United Kingdom</td>\n",
       "      <td>20.34</td>\n",
       "      <td>Preferred</td>\n",
       "    </tr>\n",
       "  </tbody>\n",
       "</table>\n",
       "</div>"
      ],
      "text/plain": [
       "   Unnamed: 0  InvoiceNo StockCode  year  month  day  hour  \\\n",
       "0           0     536365    85123A  2010     12    3     8   \n",
       "1           1     536365     71053  2010     12    3     8   \n",
       "2           2     536365    84406B  2010     12    3     8   \n",
       "3           3     536365    84029G  2010     12    3     8   \n",
       "4           4     536365    84029E  2010     12    3     8   \n",
       "\n",
       "                           Description  Quantity          InvoiceDate  \\\n",
       "0   white hanging heart t-light holder         6  2010-12-01 08:26:00   \n",
       "1                  white metal lantern         6  2010-12-01 08:26:00   \n",
       "2       cream cupid hearts coat hanger         8  2010-12-01 08:26:00   \n",
       "3  knitted union flag hot water bottle         6  2010-12-01 08:26:00   \n",
       "4       red woolly hottie white heart.         6  2010-12-01 08:26:00   \n",
       "\n",
       "   UnitPrice  CustomerID         Country  amount_spent Customer_Label  \n",
       "0       2.55       17850  United Kingdom         15.30      Preferred  \n",
       "1       3.39       17850  United Kingdom         20.34      Preferred  \n",
       "2       2.75       17850  United Kingdom         22.00      Preferred  \n",
       "3       3.39       17850  United Kingdom         20.34      Preferred  \n",
       "4       3.39       17850  United Kingdom         20.34      Preferred  "
      ]
     },
     "execution_count": 28,
     "metadata": {},
     "output_type": "execute_result"
    }
   ],
   "source": [
    "orders.head()"
   ]
  },
  {
   "cell_type": "markdown",
   "metadata": {},
   "source": [
    "Now we'll leave it to you to solve Q2 & Q3, which you can leverage from your solution for Q1:\n",
    "\n",
    "## Q2: How to identify which country has the most VIP Customers?"
   ]
  },
  {
   "cell_type": "code",
   "execution_count": 32,
   "metadata": {},
   "outputs": [],
   "source": [
    "vip_customers_df = orders[orders[\"Customer_Label\"] == \"VIP\"]"
   ]
  },
  {
   "cell_type": "code",
   "execution_count": 33,
   "metadata": {},
   "outputs": [],
   "source": [
    "country_vip = vip_customers_df[\"Country\"].value_counts()"
   ]
  },
  {
   "cell_type": "code",
   "execution_count": 34,
   "metadata": {},
   "outputs": [],
   "source": [
    "most_vip_country = country_vip.idxmax()"
   ]
  },
  {
   "cell_type": "code",
   "execution_count": 35,
   "metadata": {},
   "outputs": [
    {
     "data": {
      "text/plain": [
       "'United Kingdom'"
      ]
     },
     "execution_count": 35,
     "metadata": {},
     "output_type": "execute_result"
    }
   ],
   "source": [
    "most_vip_country"
   ]
  },
  {
   "cell_type": "markdown",
   "metadata": {},
   "source": [
    "## Q3: How to identify which country has the most VIP+Preferred Customers combined?"
   ]
  },
  {
   "cell_type": "code",
   "execution_count": 36,
   "metadata": {},
   "outputs": [],
   "source": [
    "vip_preferred_df = orders[orders[\"Customer_Label\"].isin([\"VIP\", \"Preferred\"])]\n",
    "\n"
   ]
  },
  {
   "cell_type": "code",
   "execution_count": 37,
   "metadata": {},
   "outputs": [],
   "source": [
    "vip_preferred_country = vip_preferred_df[\"Country\"].value_counts()\n",
    "\n"
   ]
  },
  {
   "cell_type": "code",
   "execution_count": 38,
   "metadata": {},
   "outputs": [],
   "source": [
    "vip_preferred_country_sorted = vip_preferred_country.sort_values(ascending=False)"
   ]
  },
  {
   "cell_type": "code",
   "execution_count": 39,
   "metadata": {},
   "outputs": [
    {
     "data": {
      "text/plain": [
       "United Kingdom    221635\n",
       "Germany             7349\n",
       "EIRE                7238\n",
       "France              6301\n",
       "Netherlands         2080\n",
       "Spain               1569\n",
       "Belgium             1557\n",
       "Switzerland         1370\n",
       "Portugal            1093\n",
       "Norway              1028\n",
       "Name: Country, dtype: int64"
      ]
     },
     "execution_count": 39,
     "metadata": {},
     "output_type": "execute_result"
    }
   ],
   "source": [
    "vip_preferred_country_sorted.head(10)"
   ]
  },
  {
   "cell_type": "code",
   "execution_count": 43,
   "metadata": {},
   "outputs": [
    {
     "data": {
      "text/plain": [
       "'United Kingdom'"
      ]
     },
     "execution_count": 43,
     "metadata": {},
     "output_type": "execute_result"
    }
   ],
   "source": [
    "highest_vip_preferred_country = vip_preferred_country_sorted.index[0]\n",
    "highest_vip_preferred_country"
   ]
  }
 ],
 "metadata": {
  "kernelspec": {
   "display_name": "Python 3 (ipykernel)",
   "language": "python",
   "name": "python3"
  },
  "language_info": {
   "codemirror_mode": {
    "name": "ipython",
    "version": 3
   },
   "file_extension": ".py",
   "mimetype": "text/x-python",
   "name": "python",
   "nbconvert_exporter": "python",
   "pygments_lexer": "ipython3",
   "version": "3.11.4"
  }
 },
 "nbformat": 4,
 "nbformat_minor": 2
}
