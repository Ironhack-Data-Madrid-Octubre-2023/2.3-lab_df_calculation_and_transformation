{
 "cells": [
  {
   "cell_type": "markdown",
   "metadata": {},
   "source": [
    "# Challenge 3\n",
    "\n",
    "In this challenge we will work on the `Orders` data set. In your work you will apply the thinking process and workflow we showed you in Challenge 2.\n",
    "\n",
    "You are serving as a Business Intelligence Analyst at the headquarter of an international fashion goods chain store. Your boss today asked you to do two things for her:\n",
    "\n",
    "**First, identify two groups of customers from the data set.** The first group is **VIP Customers** whose **aggregated expenses** at your global chain stores are **above the 95th percentile** (aka. 0.95 quantile). The second group is **Preferred Customers** whose **aggregated expenses** are **between the 75th and 95th percentile**.\n",
    "\n",
    "**Second, identify which country has the most of your VIP customers, and which country has the most of your VIP+Preferred Customers combined.**"
   ]
  },
  {
   "cell_type": "markdown",
   "metadata": {},
   "source": [
    "## Q1: How to identify VIP & Preferred Customers?\n",
    "\n",
    "We start by importing all the required libraries:"
   ]
  },
  {
   "cell_type": "code",
   "execution_count": 1,
   "metadata": {},
   "outputs": [],
   "source": [
    "# import required libraries\n",
    "\n",
    "import pandas as pd\n",
    "import numpy as np"
   ]
  },
  {
   "cell_type": "markdown",
   "metadata": {},
   "source": [
    "Next, import `Orders` from Ironhack's database into a dataframe variable called `orders`. Print the head of `orders` to overview the data:"
   ]
  },
  {
   "cell_type": "code",
   "execution_count": 2,
   "metadata": {},
   "outputs": [
    {
     "data": {
      "text/html": [
       "<div>\n",
       "<style scoped>\n",
       "    .dataframe tbody tr th:only-of-type {\n",
       "        vertical-align: middle;\n",
       "    }\n",
       "\n",
       "    .dataframe tbody tr th {\n",
       "        vertical-align: top;\n",
       "    }\n",
       "\n",
       "    .dataframe thead th {\n",
       "        text-align: right;\n",
       "    }\n",
       "</style>\n",
       "<table border=\"1\" class=\"dataframe\">\n",
       "  <thead>\n",
       "    <tr style=\"text-align: right;\">\n",
       "      <th></th>\n",
       "      <th>Unnamed: 0</th>\n",
       "      <th>InvoiceNo</th>\n",
       "      <th>StockCode</th>\n",
       "      <th>year</th>\n",
       "      <th>month</th>\n",
       "      <th>day</th>\n",
       "      <th>hour</th>\n",
       "      <th>Description</th>\n",
       "      <th>Quantity</th>\n",
       "      <th>InvoiceDate</th>\n",
       "      <th>UnitPrice</th>\n",
       "      <th>CustomerID</th>\n",
       "      <th>Country</th>\n",
       "      <th>amount_spent</th>\n",
       "    </tr>\n",
       "  </thead>\n",
       "  <tbody>\n",
       "    <tr>\n",
       "      <th>0</th>\n",
       "      <td>0</td>\n",
       "      <td>536365</td>\n",
       "      <td>85123A</td>\n",
       "      <td>2010</td>\n",
       "      <td>12</td>\n",
       "      <td>3</td>\n",
       "      <td>8</td>\n",
       "      <td>white hanging heart t-light holder</td>\n",
       "      <td>6</td>\n",
       "      <td>2010-12-01 08:26:00</td>\n",
       "      <td>2.55</td>\n",
       "      <td>17850</td>\n",
       "      <td>United Kingdom</td>\n",
       "      <td>15.30</td>\n",
       "    </tr>\n",
       "    <tr>\n",
       "      <th>1</th>\n",
       "      <td>1</td>\n",
       "      <td>536365</td>\n",
       "      <td>71053</td>\n",
       "      <td>2010</td>\n",
       "      <td>12</td>\n",
       "      <td>3</td>\n",
       "      <td>8</td>\n",
       "      <td>white metal lantern</td>\n",
       "      <td>6</td>\n",
       "      <td>2010-12-01 08:26:00</td>\n",
       "      <td>3.39</td>\n",
       "      <td>17850</td>\n",
       "      <td>United Kingdom</td>\n",
       "      <td>20.34</td>\n",
       "    </tr>\n",
       "    <tr>\n",
       "      <th>2</th>\n",
       "      <td>2</td>\n",
       "      <td>536365</td>\n",
       "      <td>84406B</td>\n",
       "      <td>2010</td>\n",
       "      <td>12</td>\n",
       "      <td>3</td>\n",
       "      <td>8</td>\n",
       "      <td>cream cupid hearts coat hanger</td>\n",
       "      <td>8</td>\n",
       "      <td>2010-12-01 08:26:00</td>\n",
       "      <td>2.75</td>\n",
       "      <td>17850</td>\n",
       "      <td>United Kingdom</td>\n",
       "      <td>22.00</td>\n",
       "    </tr>\n",
       "    <tr>\n",
       "      <th>3</th>\n",
       "      <td>3</td>\n",
       "      <td>536365</td>\n",
       "      <td>84029G</td>\n",
       "      <td>2010</td>\n",
       "      <td>12</td>\n",
       "      <td>3</td>\n",
       "      <td>8</td>\n",
       "      <td>knitted union flag hot water bottle</td>\n",
       "      <td>6</td>\n",
       "      <td>2010-12-01 08:26:00</td>\n",
       "      <td>3.39</td>\n",
       "      <td>17850</td>\n",
       "      <td>United Kingdom</td>\n",
       "      <td>20.34</td>\n",
       "    </tr>\n",
       "    <tr>\n",
       "      <th>4</th>\n",
       "      <td>4</td>\n",
       "      <td>536365</td>\n",
       "      <td>84029E</td>\n",
       "      <td>2010</td>\n",
       "      <td>12</td>\n",
       "      <td>3</td>\n",
       "      <td>8</td>\n",
       "      <td>red woolly hottie white heart.</td>\n",
       "      <td>6</td>\n",
       "      <td>2010-12-01 08:26:00</td>\n",
       "      <td>3.39</td>\n",
       "      <td>17850</td>\n",
       "      <td>United Kingdom</td>\n",
       "      <td>20.34</td>\n",
       "    </tr>\n",
       "  </tbody>\n",
       "</table>\n",
       "</div>"
      ],
      "text/plain": [
       "   Unnamed: 0  InvoiceNo StockCode  year  month  day  hour  \\\n",
       "0           0     536365    85123A  2010     12    3     8   \n",
       "1           1     536365     71053  2010     12    3     8   \n",
       "2           2     536365    84406B  2010     12    3     8   \n",
       "3           3     536365    84029G  2010     12    3     8   \n",
       "4           4     536365    84029E  2010     12    3     8   \n",
       "\n",
       "                           Description  Quantity          InvoiceDate  \\\n",
       "0   white hanging heart t-light holder         6  2010-12-01 08:26:00   \n",
       "1                  white metal lantern         6  2010-12-01 08:26:00   \n",
       "2       cream cupid hearts coat hanger         8  2010-12-01 08:26:00   \n",
       "3  knitted union flag hot water bottle         6  2010-12-01 08:26:00   \n",
       "4       red woolly hottie white heart.         6  2010-12-01 08:26:00   \n",
       "\n",
       "   UnitPrice  CustomerID         Country  amount_spent  \n",
       "0       2.55       17850  United Kingdom         15.30  \n",
       "1       3.39       17850  United Kingdom         20.34  \n",
       "2       2.75       17850  United Kingdom         22.00  \n",
       "3       3.39       17850  United Kingdom         20.34  \n",
       "4       3.39       17850  United Kingdom         20.34  "
      ]
     },
     "execution_count": 2,
     "metadata": {},
     "output_type": "execute_result"
    }
   ],
   "source": [
    "# your code here\n",
    "\n",
    "orders = pd.read_csv('Orders.csv')\n",
    "\n",
    "orders.head()"
   ]
  },
  {
   "cell_type": "markdown",
   "metadata": {},
   "source": [
    "---\n",
    "\n",
    "\"Identify VIP and Preferred Customers\" is the non-technical goal of your boss. You need to translate that goal into technical languages that data analysts use:\n",
    "\n",
    "## How to label customers whose aggregated `amount_spent` is in a given quantile range?\n"
   ]
  },
  {
   "cell_type": "markdown",
   "metadata": {},
   "source": [
    "We break down the main problem into several sub problems:\n",
    "\n",
    "#### Sub Problem 1: How to aggregate the  `amount_spent` for unique customers?\n",
    "\n",
    "#### Sub Problem 2: How to select customers whose aggregated `amount_spent` is in a given quantile range?\n",
    "\n",
    "#### Sub Problem 3: How to label selected customers as \"VIP\" or \"Preferred\"?\n",
    "\n",
    "*Note: If you want to break down the main problem in a different way, please feel free to revise the sub problems above.*\n",
    "\n",
    "Now in the workspace below, tackle each of the sub problems using the iterative problem solving workflow. Insert cells as necessary to write your codes and explain your steps."
   ]
  },
  {
   "cell_type": "markdown",
   "metadata": {},
   "source": [
    "##### Sub Problem 1"
   ]
  },
  {
   "cell_type": "code",
   "execution_count": 34,
   "metadata": {
    "scrolled": false
   },
   "outputs": [
    {
     "name": "stderr",
     "output_type": "stream",
     "text": [
      "C:\\Users\\Koh\\AppData\\Local\\Temp\\ipykernel_2156\\2751822810.py:1: FutureWarning: The default value of numeric_only in DataFrameGroupBy.sum is deprecated. In a future version, numeric_only will default to False. Either specify numeric_only or select only columns which should be valid for the function.\n",
      "  grouped = orders.groupby(['CustomerID']).sum()\n"
     ]
    },
    {
     "data": {
      "text/plain": [
       "CustomerID\n",
       "14646    280206.02\n",
       "18102    259657.30\n",
       "17450    194550.79\n",
       "16446    168472.50\n",
       "14911    143825.06\n",
       "12415    124914.53\n",
       "14156    117379.63\n",
       "17511     91062.38\n",
       "16029     81024.84\n",
       "12346     77183.60\n",
       "Name: amount_spent, dtype: float64"
      ]
     },
     "execution_count": 34,
     "metadata": {},
     "output_type": "execute_result"
    }
   ],
   "source": [
    "grouped = orders.groupby(['CustomerID']).sum()\n",
    "\n",
    "grouped['amount_spent'].sort_values(ascending=False).head(10)"
   ]
  },
  {
   "cell_type": "markdown",
   "metadata": {},
   "source": [
    "###### Sub Problem 2"
   ]
  },
  {
   "cell_type": "markdown",
   "metadata": {},
   "source": [
    "Vip -> between 95% and 100%\n",
    "\n",
    "Pref -> between 75% and 95%"
   ]
  },
  {
   "cell_type": "code",
   "execution_count": 81,
   "metadata": {
    "scrolled": true
   },
   "outputs": [
    {
     "data": {
      "text/html": [
       "<div>\n",
       "<style scoped>\n",
       "    .dataframe tbody tr th:only-of-type {\n",
       "        vertical-align: middle;\n",
       "    }\n",
       "\n",
       "    .dataframe tbody tr th {\n",
       "        vertical-align: top;\n",
       "    }\n",
       "\n",
       "    .dataframe thead th {\n",
       "        text-align: right;\n",
       "    }\n",
       "</style>\n",
       "<table border=\"1\" class=\"dataframe\">\n",
       "  <thead>\n",
       "    <tr style=\"text-align: right;\">\n",
       "      <th></th>\n",
       "      <th>count</th>\n",
       "      <th>mean</th>\n",
       "      <th>std</th>\n",
       "      <th>min</th>\n",
       "      <th>25%</th>\n",
       "      <th>50%</th>\n",
       "      <th>75%</th>\n",
       "      <th>max</th>\n",
       "    </tr>\n",
       "  </thead>\n",
       "  <tbody>\n",
       "    <tr>\n",
       "      <th>Unnamed: 0</th>\n",
       "      <td>4339.0</td>\n",
       "      <td>2.553768e+07</td>\n",
       "      <td>7.157521e+07</td>\n",
       "      <td>252.0</td>\n",
       "      <td>3569287.500</td>\n",
       "      <td>11090934.00</td>\n",
       "      <td>2.814387e+07</td>\n",
       "      <td>2.405301e+09</td>\n",
       "    </tr>\n",
       "    <tr>\n",
       "      <th>InvoiceNo</th>\n",
       "      <td>4339.0</td>\n",
       "      <td>5.141346e+07</td>\n",
       "      <td>1.287813e+08</td>\n",
       "      <td>536393.0</td>\n",
       "      <td>9534986.000</td>\n",
       "      <td>23128573.00</td>\n",
       "      <td>5.630215e+07</td>\n",
       "      <td>4.418581e+09</td>\n",
       "    </tr>\n",
       "    <tr>\n",
       "      <th>year</th>\n",
       "      <td>4339.0</td>\n",
       "      <td>1.844201e+05</td>\n",
       "      <td>4.600899e+05</td>\n",
       "      <td>2010.0</td>\n",
       "      <td>34187.000</td>\n",
       "      <td>82451.00</td>\n",
       "      <td>2.011000e+05</td>\n",
       "      <td>1.578003e+07</td>\n",
       "    </tr>\n",
       "    <tr>\n",
       "      <th>month</th>\n",
       "      <td>4339.0</td>\n",
       "      <td>6.981357e+02</td>\n",
       "      <td>1.878042e+03</td>\n",
       "      <td>1.0</td>\n",
       "      <td>110.000</td>\n",
       "      <td>308.00</td>\n",
       "      <td>7.695000e+02</td>\n",
       "      <td>6.260700e+04</td>\n",
       "    </tr>\n",
       "    <tr>\n",
       "      <th>day</th>\n",
       "      <td>4339.0</td>\n",
       "      <td>3.314861e+02</td>\n",
       "      <td>7.893480e+02</td>\n",
       "      <td>1.0</td>\n",
       "      <td>50.000</td>\n",
       "      <td>136.00</td>\n",
       "      <td>3.550000e+02</td>\n",
       "      <td>2.670400e+04</td>\n",
       "    </tr>\n",
       "    <tr>\n",
       "      <th>hour</th>\n",
       "      <td>4339.0</td>\n",
       "      <td>1.167291e+03</td>\n",
       "      <td>2.991085e+03</td>\n",
       "      <td>8.0</td>\n",
       "      <td>204.000</td>\n",
       "      <td>517.00</td>\n",
       "      <td>1.256000e+03</td>\n",
       "      <td>1.038310e+05</td>\n",
       "    </tr>\n",
       "    <tr>\n",
       "      <th>Quantity</th>\n",
       "      <td>4339.0</td>\n",
       "      <td>1.194214e+03</td>\n",
       "      <td>5.055603e+03</td>\n",
       "      <td>1.0</td>\n",
       "      <td>160.000</td>\n",
       "      <td>379.00</td>\n",
       "      <td>9.930000e+02</td>\n",
       "      <td>1.974910e+05</td>\n",
       "    </tr>\n",
       "    <tr>\n",
       "      <th>UnitPrice</th>\n",
       "      <td>4339.0</td>\n",
       "      <td>2.857803e+02</td>\n",
       "      <td>8.805457e+02</td>\n",
       "      <td>0.0</td>\n",
       "      <td>51.685</td>\n",
       "      <td>127.15</td>\n",
       "      <td>2.944250e+02</td>\n",
       "      <td>3.333245e+04</td>\n",
       "    </tr>\n",
       "    <tr>\n",
       "      <th>amount_spent</th>\n",
       "      <td>4339.0</td>\n",
       "      <td>2.053793e+03</td>\n",
       "      <td>8.988248e+03</td>\n",
       "      <td>0.0</td>\n",
       "      <td>307.245</td>\n",
       "      <td>674.45</td>\n",
       "      <td>1.661640e+03</td>\n",
       "      <td>2.802060e+05</td>\n",
       "    </tr>\n",
       "  </tbody>\n",
       "</table>\n",
       "</div>"
      ],
      "text/plain": [
       "               count          mean           std       min          25%  \\\n",
       "Unnamed: 0    4339.0  2.553768e+07  7.157521e+07     252.0  3569287.500   \n",
       "InvoiceNo     4339.0  5.141346e+07  1.287813e+08  536393.0  9534986.000   \n",
       "year          4339.0  1.844201e+05  4.600899e+05    2010.0    34187.000   \n",
       "month         4339.0  6.981357e+02  1.878042e+03       1.0      110.000   \n",
       "day           4339.0  3.314861e+02  7.893480e+02       1.0       50.000   \n",
       "hour          4339.0  1.167291e+03  2.991085e+03       8.0      204.000   \n",
       "Quantity      4339.0  1.194214e+03  5.055603e+03       1.0      160.000   \n",
       "UnitPrice     4339.0  2.857803e+02  8.805457e+02       0.0       51.685   \n",
       "amount_spent  4339.0  2.053793e+03  8.988248e+03       0.0      307.245   \n",
       "\n",
       "                      50%           75%           max  \n",
       "Unnamed: 0    11090934.00  2.814387e+07  2.405301e+09  \n",
       "InvoiceNo     23128573.00  5.630215e+07  4.418581e+09  \n",
       "year             82451.00  2.011000e+05  1.578003e+07  \n",
       "month              308.00  7.695000e+02  6.260700e+04  \n",
       "day                136.00  3.550000e+02  2.670400e+04  \n",
       "hour               517.00  1.256000e+03  1.038310e+05  \n",
       "Quantity           379.00  9.930000e+02  1.974910e+05  \n",
       "UnitPrice          127.15  2.944250e+02  3.333245e+04  \n",
       "amount_spent       674.45  1.661640e+03  2.802060e+05  "
      ]
     },
     "execution_count": 81,
     "metadata": {},
     "output_type": "execute_result"
    }
   ],
   "source": [
    "grouped.describe().T"
   ]
  },
  {
   "cell_type": "code",
   "execution_count": 82,
   "metadata": {},
   "outputs": [
    {
     "data": {
      "text/plain": [
       "1661.64"
      ]
     },
     "execution_count": 82,
     "metadata": {},
     "output_type": "execute_result"
    }
   ],
   "source": [
    "grouped.describe().T.loc['amount_spent']['75%']"
   ]
  },
  {
   "cell_type": "code",
   "execution_count": 83,
   "metadata": {},
   "outputs": [],
   "source": [
    "best_clients = grouped[grouped.amount_spent > grouped.describe().T.loc['amount_spent']['75%']]"
   ]
  },
  {
   "cell_type": "code",
   "execution_count": 84,
   "metadata": {},
   "outputs": [
    {
     "data": {
      "text/html": [
       "<div>\n",
       "<style scoped>\n",
       "    .dataframe tbody tr th:only-of-type {\n",
       "        vertical-align: middle;\n",
       "    }\n",
       "\n",
       "    .dataframe tbody tr th {\n",
       "        vertical-align: top;\n",
       "    }\n",
       "\n",
       "    .dataframe thead th {\n",
       "        text-align: right;\n",
       "    }\n",
       "</style>\n",
       "<table border=\"1\" class=\"dataframe\">\n",
       "  <thead>\n",
       "    <tr style=\"text-align: right;\">\n",
       "      <th></th>\n",
       "      <th>Unnamed: 0</th>\n",
       "      <th>InvoiceNo</th>\n",
       "      <th>year</th>\n",
       "      <th>month</th>\n",
       "      <th>day</th>\n",
       "      <th>hour</th>\n",
       "      <th>Quantity</th>\n",
       "      <th>UnitPrice</th>\n",
       "      <th>amount_spent</th>\n",
       "    </tr>\n",
       "    <tr>\n",
       "      <th>CustomerID</th>\n",
       "      <th></th>\n",
       "      <th></th>\n",
       "      <th></th>\n",
       "      <th></th>\n",
       "      <th></th>\n",
       "      <th></th>\n",
       "      <th></th>\n",
       "      <th></th>\n",
       "      <th></th>\n",
       "    </tr>\n",
       "  </thead>\n",
       "  <tbody>\n",
       "    <tr>\n",
       "      <th>12346</th>\n",
       "      <td>61619</td>\n",
       "      <td>541431</td>\n",
       "      <td>2011</td>\n",
       "      <td>1</td>\n",
       "      <td>2</td>\n",
       "      <td>10</td>\n",
       "      <td>74215</td>\n",
       "      <td>1.04</td>\n",
       "      <td>77183.60</td>\n",
       "    </tr>\n",
       "    <tr>\n",
       "      <th>12347</th>\n",
       "      <td>42441700</td>\n",
       "      <td>101296926</td>\n",
       "      <td>365971</td>\n",
       "      <td>1383</td>\n",
       "      <td>441</td>\n",
       "      <td>2219</td>\n",
       "      <td>2458</td>\n",
       "      <td>481.21</td>\n",
       "      <td>4310.00</td>\n",
       "    </tr>\n",
       "    <tr>\n",
       "      <th>12348</th>\n",
       "      <td>2807120</td>\n",
       "      <td>16869685</td>\n",
       "      <td>62324</td>\n",
       "      <td>257</td>\n",
       "      <td>111</td>\n",
       "      <td>472</td>\n",
       "      <td>2341</td>\n",
       "      <td>178.71</td>\n",
       "      <td>1797.24</td>\n",
       "    </tr>\n",
       "    <tr>\n",
       "      <th>12349</th>\n",
       "      <td>35444274</td>\n",
       "      <td>42165457</td>\n",
       "      <td>146803</td>\n",
       "      <td>803</td>\n",
       "      <td>73</td>\n",
       "      <td>657</td>\n",
       "      <td>631</td>\n",
       "      <td>605.10</td>\n",
       "      <td>1757.55</td>\n",
       "    </tr>\n",
       "    <tr>\n",
       "      <th>12352</th>\n",
       "      <td>22083029</td>\n",
       "      <td>47523155</td>\n",
       "      <td>170935</td>\n",
       "      <td>552</td>\n",
       "      <td>243</td>\n",
       "      <td>1193</td>\n",
       "      <td>536</td>\n",
       "      <td>1354.11</td>\n",
       "      <td>2506.04</td>\n",
       "    </tr>\n",
       "    <tr>\n",
       "      <th>...</th>\n",
       "      <td>...</td>\n",
       "      <td>...</td>\n",
       "      <td>...</td>\n",
       "      <td>...</td>\n",
       "      <td>...</td>\n",
       "      <td>...</td>\n",
       "      <td>...</td>\n",
       "      <td>...</td>\n",
       "      <td>...</td>\n",
       "    </tr>\n",
       "    <tr>\n",
       "      <th>18259</th>\n",
       "      <td>13890450</td>\n",
       "      <td>23741242</td>\n",
       "      <td>84455</td>\n",
       "      <td>427</td>\n",
       "      <td>133</td>\n",
       "      <td>553</td>\n",
       "      <td>714</td>\n",
       "      <td>136.90</td>\n",
       "      <td>2338.60</td>\n",
       "    </tr>\n",
       "    <tr>\n",
       "      <th>18260</th>\n",
       "      <td>18050916</td>\n",
       "      <td>73457520</td>\n",
       "      <td>269463</td>\n",
       "      <td>577</td>\n",
       "      <td>436</td>\n",
       "      <td>1616</td>\n",
       "      <td>1478</td>\n",
       "      <td>469.94</td>\n",
       "      <td>2643.20</td>\n",
       "    </tr>\n",
       "    <tr>\n",
       "      <th>18272</th>\n",
       "      <td>49405922</td>\n",
       "      <td>93342091</td>\n",
       "      <td>333826</td>\n",
       "      <td>1221</td>\n",
       "      <td>509</td>\n",
       "      <td>2107</td>\n",
       "      <td>2050</td>\n",
       "      <td>380.91</td>\n",
       "      <td>3078.58</td>\n",
       "    </tr>\n",
       "    <tr>\n",
       "      <th>18283</th>\n",
       "      <td>233950830</td>\n",
       "      <td>425704048</td>\n",
       "      <td>1520316</td>\n",
       "      <td>5503</td>\n",
       "      <td>2489</td>\n",
       "      <td>10346</td>\n",
       "      <td>1397</td>\n",
       "      <td>1220.93</td>\n",
       "      <td>2094.88</td>\n",
       "    </tr>\n",
       "    <tr>\n",
       "      <th>18287</th>\n",
       "      <td>21958901</td>\n",
       "      <td>39474556</td>\n",
       "      <td>140770</td>\n",
       "      <td>555</td>\n",
       "      <td>332</td>\n",
       "      <td>697</td>\n",
       "      <td>1586</td>\n",
       "      <td>104.55</td>\n",
       "      <td>1837.28</td>\n",
       "    </tr>\n",
       "  </tbody>\n",
       "</table>\n",
       "<p>1085 rows × 9 columns</p>\n",
       "</div>"
      ],
      "text/plain": [
       "            Unnamed: 0  InvoiceNo     year  month   day   hour  Quantity  \\\n",
       "CustomerID                                                                 \n",
       "12346            61619     541431     2011      1     2     10     74215   \n",
       "12347         42441700  101296926   365971   1383   441   2219      2458   \n",
       "12348          2807120   16869685    62324    257   111    472      2341   \n",
       "12349         35444274   42165457   146803    803    73    657       631   \n",
       "12352         22083029   47523155   170935    552   243   1193       536   \n",
       "...                ...        ...      ...    ...   ...    ...       ...   \n",
       "18259         13890450   23741242    84455    427   133    553       714   \n",
       "18260         18050916   73457520   269463    577   436   1616      1478   \n",
       "18272         49405922   93342091   333826   1221   509   2107      2050   \n",
       "18283        233950830  425704048  1520316   5503  2489  10346      1397   \n",
       "18287         21958901   39474556   140770    555   332    697      1586   \n",
       "\n",
       "            UnitPrice  amount_spent  \n",
       "CustomerID                           \n",
       "12346            1.04      77183.60  \n",
       "12347          481.21       4310.00  \n",
       "12348          178.71       1797.24  \n",
       "12349          605.10       1757.55  \n",
       "12352         1354.11       2506.04  \n",
       "...               ...           ...  \n",
       "18259          136.90       2338.60  \n",
       "18260          469.94       2643.20  \n",
       "18272          380.91       3078.58  \n",
       "18283         1220.93       2094.88  \n",
       "18287          104.55       1837.28  \n",
       "\n",
       "[1085 rows x 9 columns]"
      ]
     },
     "execution_count": 84,
     "metadata": {},
     "output_type": "execute_result"
    }
   ],
   "source": [
    "best_clients"
   ]
  },
  {
   "cell_type": "code",
   "execution_count": 98,
   "metadata": {},
   "outputs": [],
   "source": [
    "vipref_quantity = len(best_clients.amount_spent)"
   ]
  },
  {
   "cell_type": "code",
   "execution_count": 99,
   "metadata": {},
   "outputs": [
    {
     "data": {
      "text/plain": [
       "(54, 1031)"
      ]
     },
     "execution_count": 99,
     "metadata": {},
     "output_type": "execute_result"
    }
   ],
   "source": [
    "vip_quantity = int(vipref_quantity * 0.05)\n",
    "pref_quantity = vipref_quantity - vip_quantity\n",
    "\n",
    "vip_quantity, pref_quantity"
   ]
  },
  {
   "cell_type": "code",
   "execution_count": 107,
   "metadata": {},
   "outputs": [
    {
     "data": {
      "text/plain": [
       "CustomerID\n",
       "13012      1661.84\n",
       "12530      1662.28\n",
       "12912      1662.30\n",
       "16115      1667.97\n",
       "17656      1674.69\n",
       "           ...    \n",
       "14911    143825.06\n",
       "16446    168472.50\n",
       "17450    194550.79\n",
       "18102    259657.30\n",
       "14646    280206.02\n",
       "Name: amount_spent, Length: 1085, dtype: float64"
      ]
     },
     "execution_count": 107,
     "metadata": {},
     "output_type": "execute_result"
    }
   ],
   "source": [
    "best_clients.amount_spent.sort_values()"
   ]
  },
  {
   "cell_type": "code",
   "execution_count": 119,
   "metadata": {},
   "outputs": [],
   "source": [
    "pref_clients = best_clients.amount_spent.sort_values().index[:pref_quantity]\n",
    "\n",
    "vip_clients = best_clients.amount_spent.sort_values().index[pref_quantity:]"
   ]
  },
  {
   "cell_type": "markdown",
   "metadata": {},
   "source": [
    "Now we'll leave it to you to solve Q2 & Q3, which you can leverage from your solution for Q1:\n",
    "\n",
    "## Q2: How to identify which country has the most VIP Customers?"
   ]
  },
  {
   "cell_type": "code",
   "execution_count": 134,
   "metadata": {},
   "outputs": [],
   "source": [
    "vips = orders.copy()"
   ]
  },
  {
   "cell_type": "code",
   "execution_count": 135,
   "metadata": {},
   "outputs": [],
   "source": [
    "vips = vips[['CustomerID', 'Country']]"
   ]
  },
  {
   "cell_type": "code",
   "execution_count": 136,
   "metadata": {},
   "outputs": [],
   "source": [
    "vips = vips.drop_duplicates()"
   ]
  },
  {
   "cell_type": "code",
   "execution_count": 137,
   "metadata": {
    "scrolled": true
   },
   "outputs": [],
   "source": [
    "vips['VIP'] = vips['CustomerID'].apply(lambda x: x in vip_clients)"
   ]
  },
  {
   "cell_type": "code",
   "execution_count": 138,
   "metadata": {
    "scrolled": true
   },
   "outputs": [
    {
     "data": {
      "text/plain": [
       "'United Kingdom'"
      ]
     },
     "execution_count": 138,
     "metadata": {},
     "output_type": "execute_result"
    }
   ],
   "source": [
    "vips.groupby('Country').sum()['VIP'].sort_values(ascending=False).index[0]"
   ]
  },
  {
   "cell_type": "markdown",
   "metadata": {},
   "source": [
    "United Kingdom has the most amount of VIPs."
   ]
  },
  {
   "cell_type": "markdown",
   "metadata": {},
   "source": [
    "## Q3: How to identify which country has the most VIP+Preferred Customers combined?"
   ]
  },
  {
   "cell_type": "code",
   "execution_count": 139,
   "metadata": {},
   "outputs": [],
   "source": [
    "vipref = orders.copy()"
   ]
  },
  {
   "cell_type": "code",
   "execution_count": 140,
   "metadata": {},
   "outputs": [],
   "source": [
    "vipref = vipref[['CustomerID', 'Country']]"
   ]
  },
  {
   "cell_type": "code",
   "execution_count": 141,
   "metadata": {},
   "outputs": [],
   "source": [
    "vipref = vipref.drop_duplicates()"
   ]
  },
  {
   "cell_type": "code",
   "execution_count": 142,
   "metadata": {},
   "outputs": [],
   "source": [
    "vipref['VIPREF'] = vips['CustomerID'].apply(lambda x: x in best_clients)"
   ]
  },
  {
   "cell_type": "code",
   "execution_count": 145,
   "metadata": {},
   "outputs": [
    {
     "data": {
      "text/plain": [
       "'Australia'"
      ]
     },
     "execution_count": 145,
     "metadata": {},
     "output_type": "execute_result"
    }
   ],
   "source": [
    "vipref.groupby('Country').sum()['VIPREF'].sort_values(ascending=False).index[0]"
   ]
  },
  {
   "cell_type": "markdown",
   "metadata": {},
   "source": [
    "Australa has the most amount of VIPs and Prefered Customers combined."
   ]
  }
 ],
 "metadata": {
  "kernelspec": {
   "display_name": "Python 3 (ipykernel)",
   "language": "python",
   "name": "python3"
  },
  "language_info": {
   "codemirror_mode": {
    "name": "ipython",
    "version": 3
   },
   "file_extension": ".py",
   "mimetype": "text/x-python",
   "name": "python",
   "nbconvert_exporter": "python",
   "pygments_lexer": "ipython3",
   "version": "3.11.4"
  }
 },
 "nbformat": 4,
 "nbformat_minor": 2
}
